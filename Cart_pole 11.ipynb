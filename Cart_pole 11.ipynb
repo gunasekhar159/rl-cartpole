{
  "cells": [
    {
      "cell_type": "code",
      "execution_count": 1,
      "id": "faa8c4cb-92fb-40cf-a7bd-43f1320a12c6",
      "metadata": {
        "colab": {
          "base_uri": "https://localhost:8080/"
        },
        "id": "faa8c4cb-92fb-40cf-a7bd-43f1320a12c6",
        "outputId": "1409cd97-1fa0-41de-cef3-7e384dafa3c5"
      },
      "outputs": [
        {
          "output_type": "stream",
          "name": "stdout",
          "text": [
            "Collecting gymnasium\n",
            "  Downloading gymnasium-0.29.1-py3-none-any.whl (953 kB)\n",
            "\u001b[2K     \u001b[90m━━━━━━━━━━━━━━━━━━━━━━━━━━━━━━━━━━━━━━━━\u001b[0m \u001b[32m953.9/953.9 kB\u001b[0m \u001b[31m6.9 MB/s\u001b[0m eta \u001b[36m0:00:00\u001b[0m\n",
            "\u001b[?25hRequirement already satisfied: numpy>=1.21.0 in /usr/local/lib/python3.10/dist-packages (from gymnasium) (1.25.2)\n",
            "Requirement already satisfied: cloudpickle>=1.2.0 in /usr/local/lib/python3.10/dist-packages (from gymnasium) (2.2.1)\n",
            "Requirement already satisfied: typing-extensions>=4.3.0 in /usr/local/lib/python3.10/dist-packages (from gymnasium) (4.11.0)\n",
            "Collecting farama-notifications>=0.0.1 (from gymnasium)\n",
            "  Downloading Farama_Notifications-0.0.4-py3-none-any.whl (2.5 kB)\n",
            "Installing collected packages: farama-notifications, gymnasium\n",
            "Successfully installed farama-notifications-0.0.4 gymnasium-0.29.1\n",
            "Requirement already satisfied: gymnasium[box2d] in /usr/local/lib/python3.10/dist-packages (0.29.1)\n",
            "Requirement already satisfied: numpy>=1.21.0 in /usr/local/lib/python3.10/dist-packages (from gymnasium[box2d]) (1.25.2)\n",
            "Requirement already satisfied: cloudpickle>=1.2.0 in /usr/local/lib/python3.10/dist-packages (from gymnasium[box2d]) (2.2.1)\n",
            "Requirement already satisfied: typing-extensions>=4.3.0 in /usr/local/lib/python3.10/dist-packages (from gymnasium[box2d]) (4.11.0)\n",
            "Requirement already satisfied: farama-notifications>=0.0.1 in /usr/local/lib/python3.10/dist-packages (from gymnasium[box2d]) (0.0.4)\n",
            "Collecting box2d-py==2.3.5 (from gymnasium[box2d])\n",
            "  Downloading box2d-py-2.3.5.tar.gz (374 kB)\n",
            "\u001b[2K     \u001b[90m━━━━━━━━━━━━━━━━━━━━━━━━━━━━━━━━━━━━━━━━\u001b[0m \u001b[32m374.4/374.4 kB\u001b[0m \u001b[31m2.5 MB/s\u001b[0m eta \u001b[36m0:00:00\u001b[0m\n",
            "\u001b[?25h  Preparing metadata (setup.py) ... \u001b[?25l\u001b[?25hdone\n",
            "Requirement already satisfied: pygame>=2.1.3 in /usr/local/lib/python3.10/dist-packages (from gymnasium[box2d]) (2.5.2)\n",
            "Collecting swig==4.* (from gymnasium[box2d])\n",
            "  Downloading swig-4.2.1-py2.py3-none-manylinux_2_5_x86_64.manylinux1_x86_64.whl (1.9 MB)\n",
            "\u001b[2K     \u001b[90m━━━━━━━━━━━━━━━━━━━━━━━━━━━━━━━━━━━━━━━━\u001b[0m \u001b[32m1.9/1.9 MB\u001b[0m \u001b[31m11.6 MB/s\u001b[0m eta \u001b[36m0:00:00\u001b[0m\n",
            "\u001b[?25hBuilding wheels for collected packages: box2d-py\n",
            "  \u001b[1;31merror\u001b[0m: \u001b[1msubprocess-exited-with-error\u001b[0m\n",
            "  \n",
            "  \u001b[31m×\u001b[0m \u001b[32mpython setup.py bdist_wheel\u001b[0m did not run successfully.\n",
            "  \u001b[31m│\u001b[0m exit code: \u001b[1;36m1\u001b[0m\n",
            "  \u001b[31m╰─>\u001b[0m See above for output.\n",
            "  \n",
            "  \u001b[1;35mnote\u001b[0m: This error originates from a subprocess, and is likely not a problem with pip.\n",
            "  Building wheel for box2d-py (setup.py) ... \u001b[?25lerror\n",
            "\u001b[31m  ERROR: Failed building wheel for box2d-py\u001b[0m\u001b[31m\n",
            "\u001b[0m\u001b[?25h  Running setup.py clean for box2d-py\n",
            "Failed to build box2d-py\n",
            "\u001b[31mERROR: Could not build wheels for box2d-py, which is required to install pyproject.toml-based projects\u001b[0m\u001b[31m\n",
            "\u001b[0mCollecting jupyterlab\n",
            "  Downloading jupyterlab-4.2.0-py3-none-any.whl (11.6 MB)\n",
            "\u001b[2K     \u001b[90m━━━━━━━━━━━━━━━━━━━━━━━━━━━━━━━━━━━━━━━━\u001b[0m \u001b[32m11.6/11.6 MB\u001b[0m \u001b[31m36.0 MB/s\u001b[0m eta \u001b[36m0:00:00\u001b[0m\n",
            "\u001b[?25hCollecting async-lru>=1.0.0 (from jupyterlab)\n",
            "  Downloading async_lru-2.0.4-py3-none-any.whl (6.1 kB)\n",
            "Collecting httpx>=0.25.0 (from jupyterlab)\n",
            "  Downloading httpx-0.27.0-py3-none-any.whl (75 kB)\n",
            "\u001b[2K     \u001b[90m━━━━━━━━━━━━━━━━━━━━━━━━━━━━━━━━━━━━━━━━\u001b[0m \u001b[32m75.6/75.6 kB\u001b[0m \u001b[31m9.6 MB/s\u001b[0m eta \u001b[36m0:00:00\u001b[0m\n",
            "\u001b[?25hCollecting ipykernel>=6.5.0 (from jupyterlab)\n",
            "  Downloading ipykernel-6.29.4-py3-none-any.whl (117 kB)\n",
            "\u001b[2K     \u001b[90m━━━━━━━━━━━━━━━━━━━━━━━━━━━━━━━━━━━━━━━━\u001b[0m \u001b[32m117.1/117.1 kB\u001b[0m \u001b[31m14.2 MB/s\u001b[0m eta \u001b[36m0:00:00\u001b[0m\n",
            "\u001b[?25hRequirement already satisfied: jinja2>=3.0.3 in /usr/local/lib/python3.10/dist-packages (from jupyterlab) (3.1.4)\n",
            "Requirement already satisfied: jupyter-core in /usr/local/lib/python3.10/dist-packages (from jupyterlab) (5.7.2)\n",
            "Collecting jupyter-lsp>=2.0.0 (from jupyterlab)\n",
            "  Downloading jupyter_lsp-2.2.5-py3-none-any.whl (69 kB)\n",
            "\u001b[2K     \u001b[90m━━━━━━━━━━━━━━━━━━━━━━━━━━━━━━━━━━━━━━━━\u001b[0m \u001b[32m69.1/69.1 kB\u001b[0m \u001b[31m7.9 MB/s\u001b[0m eta \u001b[36m0:00:00\u001b[0m\n",
            "\u001b[?25hCollecting jupyter-server<3,>=2.4.0 (from jupyterlab)\n",
            "  Downloading jupyter_server-2.14.0-py3-none-any.whl (383 kB)\n",
            "\u001b[2K     \u001b[90m━━━━━━━━━━━━━━━━━━━━━━━━━━━━━━━━━━━━━━━━\u001b[0m \u001b[32m383.3/383.3 kB\u001b[0m \u001b[31m36.3 MB/s\u001b[0m eta \u001b[36m0:00:00\u001b[0m\n",
            "\u001b[?25hCollecting jupyterlab-server<3,>=2.27.1 (from jupyterlab)\n",
            "  Downloading jupyterlab_server-2.27.1-py3-none-any.whl (59 kB)\n",
            "\u001b[2K     \u001b[90m━━━━━━━━━━━━━━━━━━━━━━━━━━━━━━━━━━━━━━━━\u001b[0m \u001b[32m59.3/59.3 kB\u001b[0m \u001b[31m6.9 MB/s\u001b[0m eta \u001b[36m0:00:00\u001b[0m\n",
            "\u001b[?25hRequirement already satisfied: notebook-shim>=0.2 in /usr/local/lib/python3.10/dist-packages (from jupyterlab) (0.2.4)\n",
            "Requirement already satisfied: packaging in /usr/local/lib/python3.10/dist-packages (from jupyterlab) (24.0)\n",
            "Requirement already satisfied: tomli>=1.2.2 in /usr/local/lib/python3.10/dist-packages (from jupyterlab) (2.0.1)\n",
            "Requirement already satisfied: tornado>=6.2.0 in /usr/local/lib/python3.10/dist-packages (from jupyterlab) (6.3.3)\n",
            "Requirement already satisfied: traitlets in /usr/local/lib/python3.10/dist-packages (from jupyterlab) (5.7.1)\n",
            "Requirement already satisfied: typing-extensions>=4.0.0 in /usr/local/lib/python3.10/dist-packages (from async-lru>=1.0.0->jupyterlab) (4.11.0)\n",
            "Requirement already satisfied: anyio in /usr/local/lib/python3.10/dist-packages (from httpx>=0.25.0->jupyterlab) (3.7.1)\n",
            "Requirement already satisfied: certifi in /usr/local/lib/python3.10/dist-packages (from httpx>=0.25.0->jupyterlab) (2024.2.2)\n",
            "Collecting httpcore==1.* (from httpx>=0.25.0->jupyterlab)\n",
            "  Downloading httpcore-1.0.5-py3-none-any.whl (77 kB)\n",
            "\u001b[2K     \u001b[90m━━━━━━━━━━━━━━━━━━━━━━━━━━━━━━━━━━━━━━━━\u001b[0m \u001b[32m77.9/77.9 kB\u001b[0m \u001b[31m8.9 MB/s\u001b[0m eta \u001b[36m0:00:00\u001b[0m\n",
            "\u001b[?25hRequirement already satisfied: idna in /usr/local/lib/python3.10/dist-packages (from httpx>=0.25.0->jupyterlab) (3.7)\n",
            "Requirement already satisfied: sniffio in /usr/local/lib/python3.10/dist-packages (from httpx>=0.25.0->jupyterlab) (1.3.1)\n",
            "Collecting h11<0.15,>=0.13 (from httpcore==1.*->httpx>=0.25.0->jupyterlab)\n",
            "  Downloading h11-0.14.0-py3-none-any.whl (58 kB)\n",
            "\u001b[2K     \u001b[90m━━━━━━━━━━━━━━━━━━━━━━━━━━━━━━━━━━━━━━━━\u001b[0m \u001b[32m58.3/58.3 kB\u001b[0m \u001b[31m7.4 MB/s\u001b[0m eta \u001b[36m0:00:00\u001b[0m\n",
            "\u001b[?25hCollecting comm>=0.1.1 (from ipykernel>=6.5.0->jupyterlab)\n",
            "  Downloading comm-0.2.2-py3-none-any.whl (7.2 kB)\n",
            "Requirement already satisfied: debugpy>=1.6.5 in /usr/local/lib/python3.10/dist-packages (from ipykernel>=6.5.0->jupyterlab) (1.6.6)\n",
            "Requirement already satisfied: ipython>=7.23.1 in /usr/local/lib/python3.10/dist-packages (from ipykernel>=6.5.0->jupyterlab) (7.34.0)\n",
            "Requirement already satisfied: jupyter-client>=6.1.12 in /usr/local/lib/python3.10/dist-packages (from ipykernel>=6.5.0->jupyterlab) (6.1.12)\n",
            "Requirement already satisfied: matplotlib-inline>=0.1 in /usr/local/lib/python3.10/dist-packages (from ipykernel>=6.5.0->jupyterlab) (0.1.7)\n",
            "Requirement already satisfied: nest-asyncio in /usr/local/lib/python3.10/dist-packages (from ipykernel>=6.5.0->jupyterlab) (1.6.0)\n",
            "Requirement already satisfied: psutil in /usr/local/lib/python3.10/dist-packages (from ipykernel>=6.5.0->jupyterlab) (5.9.5)\n",
            "Requirement already satisfied: pyzmq>=24 in /usr/local/lib/python3.10/dist-packages (from ipykernel>=6.5.0->jupyterlab) (24.0.1)\n",
            "Requirement already satisfied: MarkupSafe>=2.0 in /usr/local/lib/python3.10/dist-packages (from jinja2>=3.0.3->jupyterlab) (2.1.5)\n",
            "Requirement already satisfied: platformdirs>=2.5 in /usr/local/lib/python3.10/dist-packages (from jupyter-core->jupyterlab) (4.2.1)\n",
            "Requirement already satisfied: argon2-cffi>=21.1 in /usr/local/lib/python3.10/dist-packages (from jupyter-server<3,>=2.4.0->jupyterlab) (23.1.0)\n",
            "Collecting jupyter-client>=6.1.12 (from ipykernel>=6.5.0->jupyterlab)\n",
            "  Downloading jupyter_client-8.6.1-py3-none-any.whl (105 kB)\n",
            "\u001b[2K     \u001b[90m━━━━━━━━━━━━━━━━━━━━━━━━━━━━━━━━━━━━━━━━\u001b[0m \u001b[32m105.9/105.9 kB\u001b[0m \u001b[31m13.1 MB/s\u001b[0m eta \u001b[36m0:00:00\u001b[0m\n",
            "\u001b[?25hCollecting jupyter-events>=0.9.0 (from jupyter-server<3,>=2.4.0->jupyterlab)\n",
            "  Downloading jupyter_events-0.10.0-py3-none-any.whl (18 kB)\n",
            "Collecting jupyter-server-terminals>=0.4.4 (from jupyter-server<3,>=2.4.0->jupyterlab)\n",
            "  Downloading jupyter_server_terminals-0.5.3-py3-none-any.whl (13 kB)\n",
            "Requirement already satisfied: nbconvert>=6.4.4 in /usr/local/lib/python3.10/dist-packages (from jupyter-server<3,>=2.4.0->jupyterlab) (6.5.4)\n",
            "Requirement already satisfied: nbformat>=5.3.0 in /usr/local/lib/python3.10/dist-packages (from jupyter-server<3,>=2.4.0->jupyterlab) (5.10.4)\n",
            "Collecting overrides>=5.0 (from jupyter-server<3,>=2.4.0->jupyterlab)\n",
            "  Downloading overrides-7.7.0-py3-none-any.whl (17 kB)\n",
            "Requirement already satisfied: prometheus-client>=0.9 in /usr/local/lib/python3.10/dist-packages (from jupyter-server<3,>=2.4.0->jupyterlab) (0.20.0)\n",
            "Requirement already satisfied: send2trash>=1.8.2 in /usr/local/lib/python3.10/dist-packages (from jupyter-server<3,>=2.4.0->jupyterlab) (1.8.3)\n",
            "Requirement already satisfied: terminado>=0.8.3 in /usr/local/lib/python3.10/dist-packages (from jupyter-server<3,>=2.4.0->jupyterlab) (0.18.1)\n",
            "Requirement already satisfied: websocket-client>=1.7 in /usr/local/lib/python3.10/dist-packages (from jupyter-server<3,>=2.4.0->jupyterlab) (1.8.0)\n",
            "Requirement already satisfied: babel>=2.10 in /usr/local/lib/python3.10/dist-packages (from jupyterlab-server<3,>=2.27.1->jupyterlab) (2.15.0)\n",
            "Collecting json5>=0.9.0 (from jupyterlab-server<3,>=2.27.1->jupyterlab)\n",
            "  Downloading json5-0.9.25-py3-none-any.whl (30 kB)\n",
            "Requirement already satisfied: jsonschema>=4.18.0 in /usr/local/lib/python3.10/dist-packages (from jupyterlab-server<3,>=2.27.1->jupyterlab) (4.19.2)\n",
            "Requirement already satisfied: requests>=2.31 in /usr/local/lib/python3.10/dist-packages (from jupyterlab-server<3,>=2.27.1->jupyterlab) (2.31.0)\n",
            "Requirement already satisfied: exceptiongroup in /usr/local/lib/python3.10/dist-packages (from anyio->httpx>=0.25.0->jupyterlab) (1.2.1)\n",
            "Requirement already satisfied: argon2-cffi-bindings in /usr/local/lib/python3.10/dist-packages (from argon2-cffi>=21.1->jupyter-server<3,>=2.4.0->jupyterlab) (21.2.0)\n",
            "Requirement already satisfied: setuptools>=18.5 in /usr/local/lib/python3.10/dist-packages (from ipython>=7.23.1->ipykernel>=6.5.0->jupyterlab) (67.7.2)\n",
            "Collecting jedi>=0.16 (from ipython>=7.23.1->ipykernel>=6.5.0->jupyterlab)\n",
            "  Downloading jedi-0.19.1-py2.py3-none-any.whl (1.6 MB)\n",
            "\u001b[2K     \u001b[90m━━━━━━━━━━━━━━━━━━━━━━━━━━━━━━━━━━━━━━━━\u001b[0m \u001b[32m1.6/1.6 MB\u001b[0m \u001b[31m42.4 MB/s\u001b[0m eta \u001b[36m0:00:00\u001b[0m\n",
            "\u001b[?25hRequirement already satisfied: decorator in /usr/local/lib/python3.10/dist-packages (from ipython>=7.23.1->ipykernel>=6.5.0->jupyterlab) (4.4.2)\n",
            "Requirement already satisfied: pickleshare in /usr/local/lib/python3.10/dist-packages (from ipython>=7.23.1->ipykernel>=6.5.0->jupyterlab) (0.7.5)\n",
            "Requirement already satisfied: prompt-toolkit!=3.0.0,!=3.0.1,<3.1.0,>=2.0.0 in /usr/local/lib/python3.10/dist-packages (from ipython>=7.23.1->ipykernel>=6.5.0->jupyterlab) (3.0.43)\n",
            "Requirement already satisfied: pygments in /usr/local/lib/python3.10/dist-packages (from ipython>=7.23.1->ipykernel>=6.5.0->jupyterlab) (2.16.1)\n",
            "Requirement already satisfied: backcall in /usr/local/lib/python3.10/dist-packages (from ipython>=7.23.1->ipykernel>=6.5.0->jupyterlab) (0.2.0)\n",
            "Requirement already satisfied: pexpect>4.3 in /usr/local/lib/python3.10/dist-packages (from ipython>=7.23.1->ipykernel>=6.5.0->jupyterlab) (4.9.0)\n",
            "Requirement already satisfied: attrs>=22.2.0 in /usr/local/lib/python3.10/dist-packages (from jsonschema>=4.18.0->jupyterlab-server<3,>=2.27.1->jupyterlab) (23.2.0)\n",
            "Requirement already satisfied: jsonschema-specifications>=2023.03.6 in /usr/local/lib/python3.10/dist-packages (from jsonschema>=4.18.0->jupyterlab-server<3,>=2.27.1->jupyterlab) (2023.12.1)\n",
            "Requirement already satisfied: referencing>=0.28.4 in /usr/local/lib/python3.10/dist-packages (from jsonschema>=4.18.0->jupyterlab-server<3,>=2.27.1->jupyterlab) (0.35.1)\n",
            "Requirement already satisfied: rpds-py>=0.7.1 in /usr/local/lib/python3.10/dist-packages (from jsonschema>=4.18.0->jupyterlab-server<3,>=2.27.1->jupyterlab) (0.18.1)\n",
            "Requirement already satisfied: python-dateutil>=2.8.2 in /usr/local/lib/python3.10/dist-packages (from jupyter-client>=6.1.12->ipykernel>=6.5.0->jupyterlab) (2.8.2)\n",
            "Collecting python-json-logger>=2.0.4 (from jupyter-events>=0.9.0->jupyter-server<3,>=2.4.0->jupyterlab)\n",
            "  Downloading python_json_logger-2.0.7-py3-none-any.whl (8.1 kB)\n",
            "Requirement already satisfied: pyyaml>=5.3 in /usr/local/lib/python3.10/dist-packages (from jupyter-events>=0.9.0->jupyter-server<3,>=2.4.0->jupyterlab) (6.0.1)\n",
            "Collecting rfc3339-validator (from jupyter-events>=0.9.0->jupyter-server<3,>=2.4.0->jupyterlab)\n",
            "  Downloading rfc3339_validator-0.1.4-py2.py3-none-any.whl (3.5 kB)\n",
            "Collecting rfc3986-validator>=0.1.1 (from jupyter-events>=0.9.0->jupyter-server<3,>=2.4.0->jupyterlab)\n",
            "  Downloading rfc3986_validator-0.1.1-py2.py3-none-any.whl (4.2 kB)\n",
            "Requirement already satisfied: lxml in /usr/local/lib/python3.10/dist-packages (from nbconvert>=6.4.4->jupyter-server<3,>=2.4.0->jupyterlab) (4.9.4)\n",
            "Requirement already satisfied: beautifulsoup4 in /usr/local/lib/python3.10/dist-packages (from nbconvert>=6.4.4->jupyter-server<3,>=2.4.0->jupyterlab) (4.12.3)\n",
            "Requirement already satisfied: bleach in /usr/local/lib/python3.10/dist-packages (from nbconvert>=6.4.4->jupyter-server<3,>=2.4.0->jupyterlab) (6.1.0)\n",
            "Requirement already satisfied: defusedxml in /usr/local/lib/python3.10/dist-packages (from nbconvert>=6.4.4->jupyter-server<3,>=2.4.0->jupyterlab) (0.7.1)\n",
            "Requirement already satisfied: entrypoints>=0.2.2 in /usr/local/lib/python3.10/dist-packages (from nbconvert>=6.4.4->jupyter-server<3,>=2.4.0->jupyterlab) (0.4)\n",
            "Requirement already satisfied: jupyterlab-pygments in /usr/local/lib/python3.10/dist-packages (from nbconvert>=6.4.4->jupyter-server<3,>=2.4.0->jupyterlab) (0.3.0)\n",
            "Requirement already satisfied: mistune<2,>=0.8.1 in /usr/local/lib/python3.10/dist-packages (from nbconvert>=6.4.4->jupyter-server<3,>=2.4.0->jupyterlab) (0.8.4)\n",
            "Requirement already satisfied: nbclient>=0.5.0 in /usr/local/lib/python3.10/dist-packages (from nbconvert>=6.4.4->jupyter-server<3,>=2.4.0->jupyterlab) (0.10.0)\n",
            "Requirement already satisfied: pandocfilters>=1.4.1 in /usr/local/lib/python3.10/dist-packages (from nbconvert>=6.4.4->jupyter-server<3,>=2.4.0->jupyterlab) (1.5.1)\n",
            "Requirement already satisfied: tinycss2 in /usr/local/lib/python3.10/dist-packages (from nbconvert>=6.4.4->jupyter-server<3,>=2.4.0->jupyterlab) (1.3.0)\n",
            "Requirement already satisfied: fastjsonschema>=2.15 in /usr/local/lib/python3.10/dist-packages (from nbformat>=5.3.0->jupyter-server<3,>=2.4.0->jupyterlab) (2.19.1)\n",
            "Requirement already satisfied: charset-normalizer<4,>=2 in /usr/local/lib/python3.10/dist-packages (from requests>=2.31->jupyterlab-server<3,>=2.27.1->jupyterlab) (3.3.2)\n",
            "Requirement already satisfied: urllib3<3,>=1.21.1 in /usr/local/lib/python3.10/dist-packages (from requests>=2.31->jupyterlab-server<3,>=2.27.1->jupyterlab) (2.0.7)\n",
            "Requirement already satisfied: ptyprocess in /usr/local/lib/python3.10/dist-packages (from terminado>=0.8.3->jupyter-server<3,>=2.4.0->jupyterlab) (0.7.0)\n",
            "Requirement already satisfied: parso<0.9.0,>=0.8.3 in /usr/local/lib/python3.10/dist-packages (from jedi>=0.16->ipython>=7.23.1->ipykernel>=6.5.0->jupyterlab) (0.8.4)\n",
            "Collecting fqdn (from jsonschema>=4.18.0->jupyterlab-server<3,>=2.27.1->jupyterlab)\n",
            "  Downloading fqdn-1.5.1-py3-none-any.whl (9.1 kB)\n",
            "Collecting isoduration (from jsonschema>=4.18.0->jupyterlab-server<3,>=2.27.1->jupyterlab)\n",
            "  Downloading isoduration-20.11.0-py3-none-any.whl (11 kB)\n",
            "Collecting jsonpointer>1.13 (from jsonschema>=4.18.0->jupyterlab-server<3,>=2.27.1->jupyterlab)\n",
            "  Downloading jsonpointer-2.4-py2.py3-none-any.whl (7.8 kB)\n",
            "Collecting uri-template (from jsonschema>=4.18.0->jupyterlab-server<3,>=2.27.1->jupyterlab)\n",
            "  Downloading uri_template-1.3.0-py3-none-any.whl (11 kB)\n",
            "Requirement already satisfied: webcolors>=1.11 in /usr/local/lib/python3.10/dist-packages (from jsonschema>=4.18.0->jupyterlab-server<3,>=2.27.1->jupyterlab) (1.13)\n",
            "Requirement already satisfied: wcwidth in /usr/local/lib/python3.10/dist-packages (from prompt-toolkit!=3.0.0,!=3.0.1,<3.1.0,>=2.0.0->ipython>=7.23.1->ipykernel>=6.5.0->jupyterlab) (0.2.13)\n",
            "Requirement already satisfied: six>=1.5 in /usr/local/lib/python3.10/dist-packages (from python-dateutil>=2.8.2->jupyter-client>=6.1.12->ipykernel>=6.5.0->jupyterlab) (1.16.0)\n",
            "Requirement already satisfied: cffi>=1.0.1 in /usr/local/lib/python3.10/dist-packages (from argon2-cffi-bindings->argon2-cffi>=21.1->jupyter-server<3,>=2.4.0->jupyterlab) (1.16.0)\n",
            "Requirement already satisfied: soupsieve>1.2 in /usr/local/lib/python3.10/dist-packages (from beautifulsoup4->nbconvert>=6.4.4->jupyter-server<3,>=2.4.0->jupyterlab) (2.5)\n",
            "Requirement already satisfied: webencodings in /usr/local/lib/python3.10/dist-packages (from bleach->nbconvert>=6.4.4->jupyter-server<3,>=2.4.0->jupyterlab) (0.5.1)\n",
            "Requirement already satisfied: pycparser in /usr/local/lib/python3.10/dist-packages (from cffi>=1.0.1->argon2-cffi-bindings->argon2-cffi>=21.1->jupyter-server<3,>=2.4.0->jupyterlab) (2.22)\n",
            "Collecting arrow>=0.15.0 (from isoduration->jsonschema>=4.18.0->jupyterlab-server<3,>=2.27.1->jupyterlab)\n",
            "  Downloading arrow-1.3.0-py3-none-any.whl (66 kB)\n",
            "\u001b[2K     \u001b[90m━━━━━━━━━━━━━━━━━━━━━━━━━━━━━━━━━━━━━━━━\u001b[0m \u001b[32m66.4/66.4 kB\u001b[0m \u001b[31m5.1 MB/s\u001b[0m eta \u001b[36m0:00:00\u001b[0m\n",
            "\u001b[?25hCollecting types-python-dateutil>=2.8.10 (from arrow>=0.15.0->isoduration->jsonschema>=4.18.0->jupyterlab-server<3,>=2.27.1->jupyterlab)\n",
            "  Downloading types_python_dateutil-2.9.0.20240316-py3-none-any.whl (9.7 kB)\n",
            "Installing collected packages: uri-template, types-python-dateutil, rfc3986-validator, rfc3339-validator, python-json-logger, overrides, jsonpointer, json5, jedi, h11, fqdn, comm, async-lru, jupyter-server-terminals, jupyter-client, httpcore, arrow, isoduration, ipykernel, httpx, jupyter-events, jupyter-server, jupyterlab-server, jupyter-lsp, jupyterlab\n",
            "  Attempting uninstall: jupyter-client\n",
            "    Found existing installation: jupyter-client 6.1.12\n",
            "    Uninstalling jupyter-client-6.1.12:\n",
            "      Successfully uninstalled jupyter-client-6.1.12\n",
            "  Attempting uninstall: ipykernel\n",
            "    Found existing installation: ipykernel 5.5.6\n",
            "    Uninstalling ipykernel-5.5.6:\n",
            "      Successfully uninstalled ipykernel-5.5.6\n",
            "  Attempting uninstall: jupyter-server\n",
            "    Found existing installation: jupyter-server 1.24.0\n",
            "    Uninstalling jupyter-server-1.24.0:\n",
            "      Successfully uninstalled jupyter-server-1.24.0\n",
            "\u001b[31mERROR: pip's dependency resolver does not currently take into account all the packages that are installed. This behaviour is the source of the following dependency conflicts.\n",
            "google-colab 1.0.0 requires ipykernel==5.5.6, but you have ipykernel 6.29.4 which is incompatible.\n",
            "notebook 6.5.5 requires jupyter-client<8,>=5.3.4, but you have jupyter-client 8.6.1 which is incompatible.\u001b[0m\u001b[31m\n",
            "\u001b[0mSuccessfully installed arrow-1.3.0 async-lru-2.0.4 comm-0.2.2 fqdn-1.5.1 h11-0.14.0 httpcore-1.0.5 httpx-0.27.0 ipykernel-6.29.4 isoduration-20.11.0 jedi-0.19.1 json5-0.9.25 jsonpointer-2.4 jupyter-client-8.6.1 jupyter-events-0.10.0 jupyter-lsp-2.2.5 jupyter-server-2.14.0 jupyter-server-terminals-0.5.3 jupyterlab-4.2.0 jupyterlab-server-2.27.1 overrides-7.7.0 python-json-logger-2.0.7 rfc3339-validator-0.1.4 rfc3986-validator-0.1.1 types-python-dateutil-2.9.0.20240316 uri-template-1.3.0\n",
            "Requirement already satisfied: tqdm in /usr/local/lib/python3.10/dist-packages (4.66.4)\n"
          ]
        }
      ],
      "source": [
        "!pip install gymnasium\n",
        "!pip install gymnasium[box2d]\n",
        "!pip install jupyterlab\n",
        "!pip install tqdm"
      ]
    },
    {
      "cell_type": "code",
      "execution_count": 2,
      "id": "8b329e1f-e757-4b82-905e-9ee07655aa38",
      "metadata": {
        "id": "8b329e1f-e757-4b82-905e-9ee07655aa38"
      },
      "outputs": [],
      "source": [
        "import gymnasium as gym\n",
        "import numpy as np\n",
        "from itertools import count\n",
        "from tqdm import tqdm\n",
        "import time\n",
        "import matplotlib.pyplot as plt"
      ]
    },
    {
      "cell_type": "code",
      "execution_count": 3,
      "id": "14dd2dd5-64c0-4c99-b11d-0cc358189af1",
      "metadata": {
        "id": "14dd2dd5-64c0-4c99-b11d-0cc358189af1"
      },
      "outputs": [],
      "source": [
        "\n",
        "g_bins = 10\n",
        "Q_track = 0\n",
        "Q = 0"
      ]
    },
    {
      "cell_type": "code",
      "execution_count": 4,
      "id": "2f2058fd-529d-4a8e-8355-e76b621db755",
      "metadata": {
        "id": "2f2058fd-529d-4a8e-8355-e76b621db755"
      },
      "outputs": [],
      "source": [
        "def create_bins(n_bins=g_bins, n_dim=4):\n",
        "\n",
        "    bins = [\n",
        "        np.linspace(-4.8, 4.8, n_bins),\n",
        "        np.linspace(-4, 4, n_bins),\n",
        "        np.linspace(-0.418, 0.418, n_bins),\n",
        "        np.linspace(-4, 4, n_bins)\n",
        "    ]\n",
        "\n",
        "    return bins"
      ]
    },
    {
      "cell_type": "code",
      "execution_count": 5,
      "id": "c564bb50-5af3-457f-b419-a1c6e4c31422",
      "metadata": {
        "id": "c564bb50-5af3-457f-b419-a1c6e4c31422"
      },
      "outputs": [],
      "source": [
        "def discretize_state(observation, bins):\n",
        "\n",
        "    binned_state = []\n",
        "\n",
        "    for i in range(len(observation)):\n",
        "        d = np.digitize(observation[i], bins[i])\n",
        "        binned_state.append( d - 1)\n",
        "\n",
        "    return tuple(binned_state)"
      ]
    },
    {
      "cell_type": "code",
      "execution_count": 6,
      "id": "98943888-b5db-48d8-8a54-0c1a2680d9db",
      "metadata": {
        "id": "98943888-b5db-48d8-8a54-0c1a2680d9db"
      },
      "outputs": [],
      "source": [
        "def decay_schedule(\n",
        "    init_value, min_value, decay_ratio,\n",
        "    max_steps, log_start = -2, log_base=10):\n",
        "    decay_steps = int(max_steps*decay_ratio)\n",
        "    rem_steps = max_steps - decay_steps\n",
        "    values = np.logspace(\n",
        "      log_start, 0, decay_steps,\n",
        "      base = log_base, endpoint = True)[::-1]\n",
        "    values = (values -values.min())/(values.max() - values.min())\n",
        "    values = (init_value - min_value)*values +min_value\n",
        "    values = np.pad(values, (0, rem_steps), 'edge')\n",
        "\n",
        "    return values"
      ]
    },
    {
      "cell_type": "code",
      "execution_count": 7,
      "id": "ce5901ea-d8c5-43ec-91b6-32b4ac9af8a2",
      "metadata": {
        "id": "ce5901ea-d8c5-43ec-91b6-32b4ac9af8a2"
      },
      "outputs": [],
      "source": [
        "def generate_trajectory(\n",
        "    select_action, Q, epsilon,\n",
        "    env, max_steps=200):\n",
        "    done, trajectory = False, []\n",
        "    bins = create_bins(g_bins)\n",
        "\n",
        "    observation,_ = env.reset()\n",
        "    state = discretize_state(observation, bins)\n",
        "\n",
        "    for t in count():\n",
        "        action = select_action(state, Q, epsilon)\n",
        "        observation, reward, done, _, _ = env.step(action)\n",
        "        next_state = discretize_state(observation, bins)\n",
        "        if not done:\n",
        "            if t >= max_steps-1:\n",
        "                break\n",
        "            experience = (state, action,\n",
        "                    reward, next_state, done)\n",
        "            trajectory.append(experience)\n",
        "        else:\n",
        "            experience = (state, action,\n",
        "                    -100, next_state, done)\n",
        "            trajectory.append(experience)\n",
        "            #time.sleep(2)\n",
        "            break\n",
        "        state = next_state\n",
        "\n",
        "    return np.array(trajectory, dtype=object)"
      ]
    },
    {
      "cell_type": "code",
      "execution_count": 8,
      "id": "2b42b13f",
      "metadata": {
        "id": "2b42b13f"
      },
      "outputs": [],
      "source": [
        "def mc_control (env,n_bins=g_bins, gamma = 1.0,\n",
        "                init_alpha = 0.5,min_alpha = 0.01, alpha_decay_ratio = 0.5,\n",
        "                init_epsilon = 1.0, min_epsilon = 0.1, epsilon_decay_ratio = 0.9,\n",
        "                n_episodes = 3000, max_steps = 200, first_visit = True, init_Q=None):\n",
        "\n",
        "    nA = env.action_space.n\n",
        "    discounts = np.logspace(0, max_steps,\n",
        "                            num = max_steps, base = gamma,\n",
        "                            endpoint = False)\n",
        "    alphas = decay_schedule(init_alpha, min_alpha,\n",
        "                            0.9999, n_episodes)\n",
        "    epsilons = decay_schedule(init_epsilon, min_epsilon,\n",
        "                            0.99, n_episodes)\n",
        "    pi_track = []\n",
        "    global Q_track\n",
        "    global Q\n",
        "\n",
        "\n",
        "    if init_Q is None:\n",
        "        Q = np.zeros([n_bins]*env.observation_space.shape[0] + [env.action_space.n],dtype =np.float64)\n",
        "    else:\n",
        "        Q = init_Q\n",
        "\n",
        "    n_elements = Q.size\n",
        "    n_nonzero_elements = 0\n",
        "\n",
        "    Q_track = np.zeros([n_episodes] + [n_bins]*env.observation_space.shape[0] + [env.action_space.n],dtype =np.float64)\n",
        "    select_action = lambda state, Q, epsilon: np.argmax(Q[tuple(state)]) if np.random.random() > epsilon else np.random.randint(len(Q[tuple(state)]))\n",
        "\n",
        "    progress_bar = tqdm(range(n_episodes), leave=False)\n",
        "    steps_balanced_total = 1\n",
        "    mean_steps_balanced = 0\n",
        "    for e in progress_bar:\n",
        "        trajectory = generate_trajectory(select_action, Q, epsilons[e],\n",
        "                                    env, max_steps)\n",
        "\n",
        "        steps_balanced_total = steps_balanced_total + len(trajectory)\n",
        "        mean_steps_balanced = 0\n",
        "\n",
        "        visited = np.zeros([n_bins]*env.observation_space.shape[0] + [env.action_space.n],dtype =np.float64)\n",
        "        for t, (state, action, reward, _, _) in enumerate(trajectory):\n",
        "            #if visited[tuple(state)][action] and first_visit:\n",
        "            #    continue\n",
        "            visited[tuple(state)][action] = True\n",
        "            n_steps = len(trajectory[t:])\n",
        "            G = np.sum(discounts[:n_steps]*trajectory[t:, 2])\n",
        "            Q[tuple(state)][action] = Q[tuple(state)][action]+alphas[e]*(G - Q[tuple(state)][action])\n",
        "        Q_track[e] = Q\n",
        "        n_nonzero_elements = np.count_nonzero(Q)\n",
        "        pi_track.append(np.argmax(Q, axis=env.observation_space.shape[0]))\n",
        "        if e != 0:\n",
        "            mean_steps_balanced = steps_balanced_total/e\n",
        "        #progress_bar.set_postfix(episode=e, Epsilon=epsilons[e], Steps=f\"{len(trajectory)}\" ,MeanStepsBalanced=f\"{mean_steps_balanced:.2f}\", NonZeroValues=\"{0}/{1}\".format(n_nonzero_elements,n_elements))\n",
        "        progress_bar.set_postfix(episode=e, Epsilon=epsilons[e], StepsBalanced=f\"{len(trajectory)}\" ,MeanStepsBalanced=f\"{mean_steps_balanced:.2f}\")\n",
        "\n",
        "    print(\"mean_steps_balanced={0},steps_balanced_total={1}\".format(mean_steps_balanced,steps_balanced_total))\n",
        "    V = np.max(Q, axis=env.observation_space.shape[0])\n",
        "    pi = lambda s:{s:a for s, a in enumerate(np.argmax(Q, axis=env.observation_space.shape[0]))}[s]\n",
        "\n",
        "    return Q, V, pi"
      ]
    },
    {
      "cell_type": "code",
      "execution_count": 9,
      "id": "06e0e0bf-aab1-4e62-ad12-29bccba1708b",
      "metadata": {
        "id": "06e0e0bf-aab1-4e62-ad12-29bccba1708b"
      },
      "outputs": [],
      "source": [
        "def mc_control (env,n_bins=g_bins, gamma = 1.0,\n",
        "                init_alpha = 0.5,min_alpha = 0.01, alpha_decay_ratio = 0.5,\n",
        "                init_epsilon = 1.0, min_epsilon = 0.1, epsilon_decay_ratio = 0.5,\n",
        "                n_episodes = 9000, max_steps = 800, first_visit = True, init_Q=None):\n",
        "\n",
        "    nA = env.action_space.n\n",
        "    discounts = np.logspace(0, max_steps,\n",
        "                            num = max_steps, base = gamma,\n",
        "                            endpoint = False)\n",
        "    alphas = decay_schedule(init_alpha, min_alpha,\n",
        "                            0.9999, n_episodes)\n",
        "    epsilons = decay_schedule(init_epsilon, min_epsilon,\n",
        "                            0.99, n_episodes)\n",
        "    pi_track = []\n",
        "    global Q_track\n",
        "    global Q\n",
        "\n",
        "\n",
        "    if init_Q is None:\n",
        "        Q = np.zeros([n_bins]*env.observation_space.shape[0] + [env.action_space.n],dtype =np.float64)\n",
        "    else:\n",
        "        Q = init_Q\n",
        "\n",
        "    n_elements = Q.size\n",
        "    n_nonzero_elements = 0\n",
        "\n",
        "    Q_track = np.zeros([n_episodes] + [n_bins]*env.observation_space.shape[0] + [env.action_space.n],dtype =np.float64)\n",
        "    select_action = lambda state, Q, epsilon: np.argmax(Q[tuple(state)]) if np.random.random() > epsilon else np.random.randint(len(Q[tuple(state)]))\n",
        "\n",
        "    progress_bar = tqdm(range(n_episodes), leave=False)\n",
        "    steps_balanced_total = 1\n",
        "    mean_steps_balanced = 0\n",
        "    for e in progress_bar:\n",
        "        trajectory = generate_trajectory(select_action, Q, epsilons[e],\n",
        "                                    env, max_steps)\n",
        "\n",
        "        steps_balanced_total = steps_balanced_total + len(trajectory)\n",
        "        mean_steps_balanced = 0\n",
        "\n",
        "        visited = np.zeros([n_bins]*env.observation_space.shape[0] + [env.action_space.n],dtype =np.float64)\n",
        "        for t, (state, action, reward, _, _) in enumerate(trajectory):\n",
        "            #if visited[tuple(state)][action] and first_visit:\n",
        "            #    continue\n",
        "            visited[tuple(state)][action] = True\n",
        "            n_steps = len(trajectory[t:])\n",
        "            G = np.sum(discounts[:n_steps]*trajectory[t:, 2])\n",
        "            Q[tuple(state)][action] = Q[tuple(state)][action]+alphas[e]*(G - Q[tuple(state)][action])\n",
        "        Q_track[e] = Q\n",
        "        n_nonzero_elements = np.count_nonzero(Q)\n",
        "        pi_track.append(np.argmax(Q, axis=env.observation_space.shape[0]))\n",
        "        if e != 0:\n",
        "            mean_steps_balanced = steps_balanced_total/e\n",
        "        #progress_bar.set_postfix(episode=e, Epsilon=epsilons[e], Steps=f\"{len(trajectory)}\" ,MeanStepsBalanced=f\"{mean_steps_balanced:.2f}\", NonZeroValues=\"{0}/{1}\".format(n_nonzero_elements,n_elements))\n",
        "        progress_bar.set_postfix(episode=e, Epsilon=epsilons[e], StepsBalanced=f\"{len(trajectory)}\" ,MeanStepsBalanced=f\"{mean_steps_balanced:.2f}\")\n",
        "\n",
        "    print(\"mean_steps_balanced={0},steps_balanced_total={1}\".format(mean_steps_balanced,steps_balanced_total))\n",
        "    V = np.max(Q, axis=env.observation_space.shape[0])\n",
        "    pi = lambda s:{s:a for s, a in enumerate(np.argmax(Q, axis=env.observation_space.shape[0]))}[s]\n",
        "\n",
        "    return Q, V, pi"
      ]
    },
    {
      "cell_type": "code",
      "execution_count": 10,
      "id": "408bd6d9-f7a8-4136-b16c-9dc16f549ff3",
      "metadata": {
        "id": "408bd6d9-f7a8-4136-b16c-9dc16f549ff3"
      },
      "outputs": [],
      "source": [
        "env = gym.make(\"CartPole-v1\", render_mode=\"human\")\n",
        "observation, info = env.reset(seed=42)"
      ]
    },
    {
      "cell_type": "code",
      "execution_count": 11,
      "id": "ac09a817-9fcb-40a1-8305-2cc59097b9d9",
      "metadata": {
        "id": "ac09a817-9fcb-40a1-8305-2cc59097b9d9"
      },
      "outputs": [],
      "source": [
        "#To save the action value function\n",
        "np.save(\"state_action_values.npy\", Q)"
      ]
    },
    {
      "cell_type": "code",
      "execution_count": 12,
      "id": "47366ece-37b2-4d9f-9192-7bc48d2bb514",
      "metadata": {
        "id": "47366ece-37b2-4d9f-9192-7bc48d2bb514"
      },
      "outputs": [],
      "source": [
        "\n",
        "#To load the action value function\n",
        "Q = np.load(\"state_action_values.npy\")"
      ]
    },
    {
      "cell_type": "code",
      "execution_count": 13,
      "id": "8ac5232c-dade-44c4-8a67-0793c6f5580d",
      "metadata": {
        "id": "8ac5232c-dade-44c4-8a67-0793c6f5580d"
      },
      "outputs": [],
      "source": [
        "observation, info = env.reset(seed=42)"
      ]
    },
    {
      "cell_type": "code",
      "execution_count": 14,
      "id": "85228217-849a-4bd5-8e60-39ec34fe78f7",
      "metadata": {
        "colab": {
          "base_uri": "https://localhost:8080/"
        },
        "id": "85228217-849a-4bd5-8e60-39ec34fe78f7",
        "outputId": "e37c8f68-853e-4716-b8ca-9cef16e2abeb"
      },
      "outputs": [
        {
          "output_type": "stream",
          "name": "stdout",
          "text": [
            "False\n"
          ]
        }
      ],
      "source": [
        "observation, reward, done, _, _ = env.step(0)\n",
        "print(done)"
      ]
    },
    {
      "cell_type": "code",
      "execution_count": 15,
      "id": "2a921e98-2abf-4d64-913d-75c66e9131d4",
      "metadata": {
        "colab": {
          "base_uri": "https://localhost:8080/"
        },
        "id": "2a921e98-2abf-4d64-913d-75c66e9131d4",
        "outputId": "b618a64a-af33-4dd6-dbd5-0ca59bd0e489"
      },
      "outputs": [
        {
          "output_type": "execute_result",
          "data": {
            "text/plain": [
              "2"
            ]
          },
          "metadata": {},
          "execution_count": 15
        }
      ],
      "source": [
        "\n",
        "\n",
        "\n",
        "\n",
        "env.action_space.n"
      ]
    },
    {
      "cell_type": "code",
      "execution_count": 16,
      "id": "81617d8a-4fd8-4ca8-80c0-c213ded3372d",
      "metadata": {
        "colab": {
          "base_uri": "https://localhost:8080/"
        },
        "id": "81617d8a-4fd8-4ca8-80c0-c213ded3372d",
        "outputId": "83c6bd52-634d-4de5-be37-0a8be84e2ce3"
      },
      "outputs": [
        {
          "output_type": "stream",
          "name": "stderr",
          "text": [
            "                                                                                                                        "
          ]
        },
        {
          "output_type": "stream",
          "name": "stdout",
          "text": [
            "mean_steps_balanced=112.110183639399,steps_balanced_total=67154\n"
          ]
        },
        {
          "output_type": "stream",
          "name": "stderr",
          "text": [
            "\r"
          ]
        }
      ],
      "source": [
        "# To run the MC control without using the previous Q values\n",
        "optimal_Q, optimal_V, optimal_pi = mc_control (env,n_episodes=600)"
      ]
    },
    {
      "cell_type": "code",
      "execution_count": 17,
      "id": "28702f12-63c8-452d-9de6-c2be14a90026",
      "metadata": {
        "colab": {
          "base_uri": "https://localhost:8080/"
        },
        "id": "28702f12-63c8-452d-9de6-c2be14a90026",
        "outputId": "8d5258c5-091a-4ead-af35-9ac91dbf8194"
      },
      "outputs": [
        {
          "output_type": "stream",
          "name": "stderr",
          "text": [
            "                                                                                                                   "
          ]
        },
        {
          "output_type": "stream",
          "name": "stdout",
          "text": [
            "mean_steps_balanced=75.17721518987342,steps_balanced_total=5939\n"
          ]
        },
        {
          "output_type": "stream",
          "name": "stderr",
          "text": [
            "\r"
          ]
        }
      ],
      "source": [
        "\n",
        "# To run the MC control using the previous Q values and default parameters\n",
        "optimal_Q, optimal_V, optimal_pi = mc_control (env,n_episodes=80,\n",
        "                                    init_alpha = 0.5,min_alpha = 0.01, alpha_decay_ratio = 0.5,\n",
        "                                    init_epsilon = 1.0, min_epsilon = 0.1, epsilon_decay_ratio = 0.9,\n",
        "                                    max_steps=800, init_Q=Q)"
      ]
    },
    {
      "cell_type": "code",
      "execution_count": null,
      "id": "5868c123-fcc7-4e60-83da-b2973d2d148a",
      "metadata": {
        "id": "5868c123-fcc7-4e60-83da-b2973d2d148a"
      },
      "outputs": [],
      "source": [
        "\n",
        "# To run the MC control using the previous Q values and modified parameters\n",
        "optimal_Q, optimal_V, optimal_pi = mc_control (env,n_episodes=50,\n",
        "                                    init_alpha = 0.01,min_alpha = 0.005, alpha_decay_ratio = 0.5,\n",
        "                                    init_epsilon = 0.1 , min_epsilon = 0.08, epsilon_decay_ratio = 0.9,\n",
        "                                    max_steps=500, init_Q=Q)"
      ]
    },
    {
      "cell_type": "code",
      "execution_count": 24,
      "id": "9bf931b3-0f31-42de-b73b-14e8586d13f1",
      "metadata": {
        "colab": {
          "base_uri": "https://localhost:8080/"
        },
        "id": "9bf931b3-0f31-42de-b73b-14e8586d13f1",
        "outputId": "b2e3d342-a303-4aed-dc66-e1137ba585cf"
      },
      "outputs": [
        {
          "output_type": "execute_result",
          "data": {
            "text/plain": [
              "706"
            ]
          },
          "metadata": {},
          "execution_count": 24
        }
      ],
      "source": [
        "np.count_nonzero(Q)"
      ]
    },
    {
      "cell_type": "code",
      "execution_count": null,
      "id": "8b6c0151-41e2-48ba-a816-18cafd962572",
      "metadata": {
        "id": "8b6c0151-41e2-48ba-a816-18cafd962572"
      },
      "outputs": [],
      "source": [
        "np.size(Q)"
      ]
    },
    {
      "cell_type": "code",
      "execution_count": 25,
      "id": "f4353c71-5291-4ae0-8961-af559d78da95",
      "metadata": {
        "id": "f4353c71-5291-4ae0-8961-af559d78da95"
      },
      "outputs": [],
      "source": [
        "ep1 = decay_schedule(1, 0.1, 0.99, 50)"
      ]
    },
    {
      "cell_type": "code",
      "execution_count": 26,
      "id": "65034535-46d0-439e-9a69-ee9ef1471beb",
      "metadata": {
        "id": "65034535-46d0-439e-9a69-ee9ef1471beb"
      },
      "outputs": [],
      "source": [
        "x = np.arange(0,50)"
      ]
    },
    {
      "cell_type": "code",
      "execution_count": 27,
      "id": "5c329587-5052-4cfc-87db-4745c293048a",
      "metadata": {
        "colab": {
          "base_uri": "https://localhost:8080/",
          "height": 495
        },
        "id": "5c329587-5052-4cfc-87db-4745c293048a",
        "outputId": "7e51d8cc-ee8f-4efd-8b7a-b0533e4c1935"
      },
      "outputs": [
        {
          "output_type": "execute_result",
          "data": {
            "text/plain": [
              "[<matplotlib.lines.Line2D at 0x7ecaa8d05cc0>]"
            ]
          },
          "metadata": {},
          "execution_count": 27
        },
        {
          "output_type": "display_data",
          "data": {
            "text/plain": [
              "<Figure size 640x480 with 1 Axes>"
            ],
            "image/png": "[encoded data removed]"
          },
          "metadata": {}
        }
      ],
      "source": [
        "plt.suptitle('GUNASEKHER',fontsize=10)\n",
        "plt.plot(x,ep1,label='ep1')"
      ]
    },
    {
      "cell_type": "code",
      "source": [],
      "metadata": {
        "id": "1tsZpHYgLean"
      },
      "id": "1tsZpHYgLean",
      "execution_count": 27,
      "outputs": []
    }
  ],
  "metadata": {
    "kernelspec": {
      "display_name": "Python 3",
      "language": "python",
      "name": "python3"
    },
    "language_info": {
      "codemirror_mode": {
        "name": "ipython",
        "version": 3
      },
      "file_extension": ".py",
      "mimetype": "text/x-python",
      "name": "python",
      "nbconvert_exporter": "python",
      "pygments_lexer": "ipython3",
      "version": "3.8.8"
    },
    "colab": {
      "provenance": []
    }
  },
  "nbformat": 4,
  "nbformat_minor": 5
}